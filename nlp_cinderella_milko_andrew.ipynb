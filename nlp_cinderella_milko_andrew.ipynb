{
 "cells": [
  {
   "cell_type": "code",
   "execution_count": 1,
   "id": "8facba41-5308-4fd0-b096-ea9753312785",
   "metadata": {},
   "outputs": [],
   "source": [
    "import re\n",
    "import nltk.data\n",
    "import numpy as np\n",
    "import pandas as pd\n",
    "import random\n",
    "import json\n",
    "\n",
    "from tqdm import tqdm\n",
    "from bs4 import BeautifulSoup\n",
    "from nltk.corpus import stopwords\n",
    "from sklearn.model_selection import train_test_split"
   ]
  },
  {
   "cell_type": "code",
   "execution_count": 2,
   "id": "c86c2ae2-a77a-4e81-bb70-ed3020912782",
   "metadata": {},
   "outputs": [],
   "source": [
    "def set_random_seed(seed):\n",
    "    random.seed(seed)\n",
    "    np.random.seed(seed)\n",
    "    if torch.cuda.is_available():\n",
    "        torch.cuda.manual_seed_all(seed)"
   ]
  },
  {
   "cell_type": "markdown",
   "id": "a9862d98-7f74-49de-92c1-441d2502c714",
   "metadata": {},
   "source": [
    "## `1. Сбор данных`\n",
    "___"
   ]
  },
  {
   "cell_type": "code",
   "execution_count": 3,
   "id": "ca1f0d5f-696d-4706-b457-4bf6ce1211e9",
   "metadata": {},
   "outputs": [],
   "source": [
    "embedding_size = 300"
   ]
  },
  {
   "cell_type": "code",
   "execution_count": 4,
   "id": "778f0382-7c81-4914-b0d6-9a73ebabf463",
   "metadata": {},
   "outputs": [],
   "source": [
    "all_id_texts = pd.read_csv('train_data.csv')\n",
    "all_id_labels = pd.read_csv('train_solution.csv')\n",
    "\n",
    "test_id_texts = pd.read_csv('test_data.csv')\n",
    "sample_submission = pd.read_csv('sample_submission.csv')"
   ]
  },
  {
   "cell_type": "code",
   "execution_count": 5,
   "id": "c7590bb4-fb9e-404c-a28c-0149646b624c",
   "metadata": {},
   "outputs": [
    {
     "data": {
      "text/plain": [
       "0    1428\n",
       "2    1217\n",
       "1    1199\n",
       "Name: category, dtype: int64"
      ]
     },
     "execution_count": 5,
     "metadata": {},
     "output_type": "execute_result"
    }
   ],
   "source": [
    "all_id_labels['category'].value_counts()"
   ]
  },
  {
   "cell_type": "markdown",
   "id": "41e9ec73-b59e-44c2-b53b-4e02b1d7df55",
   "metadata": {},
   "source": [
    "### `1.1 Crypto`\n",
    "___"
   ]
  },
  {
   "cell_type": "code",
   "execution_count": 6,
   "id": "3b6d133a-3b1f-43a6-81fd-34184f0359e4",
   "metadata": {},
   "outputs": [],
   "source": [
    "crypto = []\n",
    "with open('crypto.json', errors=\"ignore\") as f:\n",
    "    crypto = json.load(f)"
   ]
  },
  {
   "cell_type": "code",
   "execution_count": 7,
   "id": "1996bc96-c54d-4c73-a7e2-89c19281457e",
   "metadata": {},
   "outputs": [],
   "source": [
    "crypto = np.array(pd.DataFrame(crypto)['messages'])"
   ]
  },
  {
   "cell_type": "code",
   "execution_count": 8,
   "id": "51f45270-a7cf-44d5-ad47-1bedc55d6301",
   "metadata": {},
   "outputs": [],
   "source": [
    "crypto_texts = []\n",
    "for i in range(len(crypto)):\n",
    "    try:\n",
    "        val = crypto[i]['text'][0]\n",
    "        if not type(val) is dict:\n",
    "            crypto_texts += [val]\n",
    "    except:\n",
    "        pass"
   ]
  },
  {
   "cell_type": "code",
   "execution_count": 9,
   "id": "af0b7357-8a0b-4808-963f-65b468eb1c0c",
   "metadata": {},
   "outputs": [],
   "source": [
    "np.random.seed(1)\n",
    "\n",
    "crypto_texts = np.array(crypto_texts)\n",
    "crypto_texts = crypto_texts[np.random.randint(0, len(crypto_texts), 4000)]"
   ]
  },
  {
   "cell_type": "code",
   "execution_count": 10,
   "id": "e947ab59-1ef1-4647-8e69-35505afdee9e",
   "metadata": {},
   "outputs": [],
   "source": [
    "crypto_message = pd.DataFrame()\n",
    "crypto_message['id'] = ids = [i + 1 for i in range(len(crypto_texts))]\n",
    "crypto_message['message'] = crypto_texts"
   ]
  },
  {
   "cell_type": "code",
   "execution_count": 11,
   "id": "9caa0398-4a7c-400b-a78f-b897077be737",
   "metadata": {},
   "outputs": [
    {
     "data": {
      "text/html": [
       "<div>\n",
       "<style scoped>\n",
       "    .dataframe tbody tr th:only-of-type {\n",
       "        vertical-align: middle;\n",
       "    }\n",
       "\n",
       "    .dataframe tbody tr th {\n",
       "        vertical-align: top;\n",
       "    }\n",
       "\n",
       "    .dataframe thead th {\n",
       "        text-align: right;\n",
       "    }\n",
       "</style>\n",
       "<table border=\"1\" class=\"dataframe\">\n",
       "  <thead>\n",
       "    <tr style=\"text-align: right;\">\n",
       "      <th></th>\n",
       "      <th>id</th>\n",
       "      <th>message</th>\n",
       "    </tr>\n",
       "  </thead>\n",
       "  <tbody>\n",
       "    <tr>\n",
       "      <th>0</th>\n",
       "      <td>1</td>\n",
       "      <td>Lithuania Calls ICOâ€™s as Securities as it Is...</td>\n",
       "    </tr>\n",
       "    <tr>\n",
       "      <th>1</th>\n",
       "      <td>2</td>\n",
       "      <td>XRP Whales Moves 672 Million tokens; Will This...</td>\n",
       "    </tr>\n",
       "    <tr>\n",
       "      <th>2</th>\n",
       "      <td>3</td>\n",
       "      <td>Ripple(XRP) Scores Big in Latest Hearing as Ju...</td>\n",
       "    </tr>\n",
       "    <tr>\n",
       "      <th>3</th>\n",
       "      <td>4</td>\n",
       "      <td>This is Why Bitcoin, Bitcoin Cash &amp; Crypto Mar...</td>\n",
       "    </tr>\n",
       "    <tr>\n",
       "      <th>4</th>\n",
       "      <td>5</td>\n",
       "      <td>Quant Price Analysis- Rising QNT Price Trigger...</td>\n",
       "    </tr>\n",
       "    <tr>\n",
       "      <th>...</th>\n",
       "      <td>...</td>\n",
       "      <td>...</td>\n",
       "    </tr>\n",
       "    <tr>\n",
       "      <th>3995</th>\n",
       "      <td>3996</td>\n",
       "      <td>Are you fanatic about getting the latest updat...</td>\n",
       "    </tr>\n",
       "    <tr>\n",
       "      <th>3996</th>\n",
       "      <td>3997</td>\n",
       "      <td>Ethereum (ETH) Tests Key Support Level, Is $17...</td>\n",
       "    </tr>\n",
       "    <tr>\n",
       "      <th>3997</th>\n",
       "      <td>3998</td>\n",
       "      <td>Bitcoin [BTC] Price Analysis: On The Verge of ...</td>\n",
       "    </tr>\n",
       "    <tr>\n",
       "      <th>3998</th>\n",
       "      <td>3999</td>\n",
       "      <td>Bitcoin [BTC] Jumps $7,000 Mark, Hereâ€™s Why ...</td>\n",
       "    </tr>\n",
       "    <tr>\n",
       "      <th>3999</th>\n",
       "      <td>4000</td>\n",
       "      <td>Apecoin Price Analysis: Reversal Pattern Sets ...</td>\n",
       "    </tr>\n",
       "  </tbody>\n",
       "</table>\n",
       "<p>4000 rows × 2 columns</p>\n",
       "</div>"
      ],
      "text/plain": [
       "        id                                            message\n",
       "0        1  Lithuania Calls ICOâ€™s as Securities as it Is...\n",
       "1        2  XRP Whales Moves 672 Million tokens; Will This...\n",
       "2        3  Ripple(XRP) Scores Big in Latest Hearing as Ju...\n",
       "3        4  This is Why Bitcoin, Bitcoin Cash & Crypto Mar...\n",
       "4        5  Quant Price Analysis- Rising QNT Price Trigger...\n",
       "...    ...                                                ...\n",
       "3995  3996  Are you fanatic about getting the latest updat...\n",
       "3996  3997  Ethereum (ETH) Tests Key Support Level, Is $17...\n",
       "3997  3998  Bitcoin [BTC] Price Analysis: On The Verge of ...\n",
       "3998  3999  Bitcoin [BTC] Jumps $7,000 Mark, Hereâ€™s Why ...\n",
       "3999  4000  Apecoin Price Analysis: Reversal Pattern Sets ...\n",
       "\n",
       "[4000 rows x 2 columns]"
      ]
     },
     "execution_count": 11,
     "metadata": {},
     "output_type": "execute_result"
    }
   ],
   "source": [
    "crypto_message"
   ]
  },
  {
   "cell_type": "code",
   "execution_count": 12,
   "id": "706d0185-13d8-4196-9ca6-8901a49c38e0",
   "metadata": {},
   "outputs": [],
   "source": [
    "crypto_category = pd.DataFrame()\n",
    "crypto_category['id'] = ids = [i + 1 for i in range(len(crypto_texts))]\n",
    "crypto_category['category'] = 1"
   ]
  },
  {
   "cell_type": "code",
   "execution_count": 13,
   "id": "4a1bbf54-a797-43a2-ac72-a8e98acd532d",
   "metadata": {},
   "outputs": [
    {
     "data": {
      "text/html": [
       "<div>\n",
       "<style scoped>\n",
       "    .dataframe tbody tr th:only-of-type {\n",
       "        vertical-align: middle;\n",
       "    }\n",
       "\n",
       "    .dataframe tbody tr th {\n",
       "        vertical-align: top;\n",
       "    }\n",
       "\n",
       "    .dataframe thead th {\n",
       "        text-align: right;\n",
       "    }\n",
       "</style>\n",
       "<table border=\"1\" class=\"dataframe\">\n",
       "  <thead>\n",
       "    <tr style=\"text-align: right;\">\n",
       "      <th></th>\n",
       "      <th>id</th>\n",
       "      <th>category</th>\n",
       "    </tr>\n",
       "  </thead>\n",
       "  <tbody>\n",
       "    <tr>\n",
       "      <th>0</th>\n",
       "      <td>1</td>\n",
       "      <td>1</td>\n",
       "    </tr>\n",
       "    <tr>\n",
       "      <th>1</th>\n",
       "      <td>2</td>\n",
       "      <td>1</td>\n",
       "    </tr>\n",
       "    <tr>\n",
       "      <th>2</th>\n",
       "      <td>3</td>\n",
       "      <td>1</td>\n",
       "    </tr>\n",
       "    <tr>\n",
       "      <th>3</th>\n",
       "      <td>4</td>\n",
       "      <td>1</td>\n",
       "    </tr>\n",
       "    <tr>\n",
       "      <th>4</th>\n",
       "      <td>5</td>\n",
       "      <td>1</td>\n",
       "    </tr>\n",
       "    <tr>\n",
       "      <th>...</th>\n",
       "      <td>...</td>\n",
       "      <td>...</td>\n",
       "    </tr>\n",
       "    <tr>\n",
       "      <th>3995</th>\n",
       "      <td>3996</td>\n",
       "      <td>1</td>\n",
       "    </tr>\n",
       "    <tr>\n",
       "      <th>3996</th>\n",
       "      <td>3997</td>\n",
       "      <td>1</td>\n",
       "    </tr>\n",
       "    <tr>\n",
       "      <th>3997</th>\n",
       "      <td>3998</td>\n",
       "      <td>1</td>\n",
       "    </tr>\n",
       "    <tr>\n",
       "      <th>3998</th>\n",
       "      <td>3999</td>\n",
       "      <td>1</td>\n",
       "    </tr>\n",
       "    <tr>\n",
       "      <th>3999</th>\n",
       "      <td>4000</td>\n",
       "      <td>1</td>\n",
       "    </tr>\n",
       "  </tbody>\n",
       "</table>\n",
       "<p>4000 rows × 2 columns</p>\n",
       "</div>"
      ],
      "text/plain": [
       "        id  category\n",
       "0        1         1\n",
       "1        2         1\n",
       "2        3         1\n",
       "3        4         1\n",
       "4        5         1\n",
       "...    ...       ...\n",
       "3995  3996         1\n",
       "3996  3997         1\n",
       "3997  3998         1\n",
       "3998  3999         1\n",
       "3999  4000         1\n",
       "\n",
       "[4000 rows x 2 columns]"
      ]
     },
     "execution_count": 13,
     "metadata": {},
     "output_type": "execute_result"
    }
   ],
   "source": [
    "crypto_category"
   ]
  },
  {
   "cell_type": "markdown",
   "id": "7bf6b49d-08e4-4039-8d41-8c0fbf163119",
   "metadata": {},
   "source": [
    "### `1.2 Beauty`\n",
    "___"
   ]
  },
  {
   "cell_type": "code",
   "execution_count": 14,
   "id": "a5dfedeb-3e52-4a3b-ad3a-b3070d045cdc",
   "metadata": {},
   "outputs": [],
   "source": [
    "tweets = []\n",
    "for line in open('news.json', 'r'):\n",
    "    text = json.loads(line)\n",
    "    if text['category'] == 'STYLE & BEAUTY':\n",
    "        tweets.append(text['short_description'])"
   ]
  },
  {
   "cell_type": "code",
   "execution_count": 15,
   "id": "3492a06c-b2fd-4ee5-b4d0-6f2ae6c99ae3",
   "metadata": {},
   "outputs": [],
   "source": [
    "np.random.seed(1)\n",
    "\n",
    "tweets = np.array(tweets)\n",
    "tweets = tweets[np.random.randint(0, len(tweets), 4000)]"
   ]
  },
  {
   "cell_type": "code",
   "execution_count": 16,
   "id": "9ab32ab4-47b1-4966-bf5d-b8d5e5b76869",
   "metadata": {},
   "outputs": [],
   "source": [
    "beauty_message = pd.DataFrame()\n",
    "beauty_message['id'] = ids = [i + 4001 for i in range(len(tweets))]\n",
    "beauty_message['message'] = tweets"
   ]
  },
  {
   "cell_type": "code",
   "execution_count": 17,
   "id": "ab4eb189-4579-4a0a-bf60-710416d41459",
   "metadata": {},
   "outputs": [
    {
     "data": {
      "text/html": [
       "<div>\n",
       "<style scoped>\n",
       "    .dataframe tbody tr th:only-of-type {\n",
       "        vertical-align: middle;\n",
       "    }\n",
       "\n",
       "    .dataframe tbody tr th {\n",
       "        vertical-align: top;\n",
       "    }\n",
       "\n",
       "    .dataframe thead th {\n",
       "        text-align: right;\n",
       "    }\n",
       "</style>\n",
       "<table border=\"1\" class=\"dataframe\">\n",
       "  <thead>\n",
       "    <tr style=\"text-align: right;\">\n",
       "      <th></th>\n",
       "      <th>id</th>\n",
       "      <th>message</th>\n",
       "    </tr>\n",
       "  </thead>\n",
       "  <tbody>\n",
       "    <tr>\n",
       "      <th>0</th>\n",
       "      <td>4001</td>\n",
       "      <td>Maggie Gyllenhaal Kelly was spotted in Easter ...</td>\n",
       "    </tr>\n",
       "    <tr>\n",
       "      <th>1</th>\n",
       "      <td>4002</td>\n",
       "      <td>Since taking over the design reins for the men...</td>\n",
       "    </tr>\n",
       "    <tr>\n",
       "      <th>2</th>\n",
       "      <td>4003</td>\n",
       "      <td>If you want sophisticated gowns with understat...</td>\n",
       "    </tr>\n",
       "    <tr>\n",
       "      <th>3</th>\n",
       "      <td>4004</td>\n",
       "      <td>Want more? Be sure to check out Stylelist on T...</td>\n",
       "    </tr>\n",
       "    <tr>\n",
       "      <th>4</th>\n",
       "      <td>4005</td>\n",
       "      <td>Miranda in the dress in April 2013: When the a...</td>\n",
       "    </tr>\n",
       "    <tr>\n",
       "      <th>...</th>\n",
       "      <td>...</td>\n",
       "      <td>...</td>\n",
       "    </tr>\n",
       "    <tr>\n",
       "      <th>3995</th>\n",
       "      <td>7996</td>\n",
       "      <td>“I’m always looking for new and innovative mat...</td>\n",
       "    </tr>\n",
       "    <tr>\n",
       "      <th>3996</th>\n",
       "      <td>7997</td>\n",
       "      <td>The most stunning, yet scary manicures we've s...</td>\n",
       "    </tr>\n",
       "    <tr>\n",
       "      <th>3997</th>\n",
       "      <td>7998</td>\n",
       "      <td>Back when MTV actually played music videos.</td>\n",
       "    </tr>\n",
       "    <tr>\n",
       "      <th>3998</th>\n",
       "      <td>7999</td>\n",
       "      <td>Because of the black cats... get it?</td>\n",
       "    </tr>\n",
       "    <tr>\n",
       "      <th>3999</th>\n",
       "      <td>8000</td>\n",
       "      <td>Want more? Be sure to check out HuffPost Style...</td>\n",
       "    </tr>\n",
       "  </tbody>\n",
       "</table>\n",
       "<p>4000 rows × 2 columns</p>\n",
       "</div>"
      ],
      "text/plain": [
       "        id                                            message\n",
       "0     4001  Maggie Gyllenhaal Kelly was spotted in Easter ...\n",
       "1     4002  Since taking over the design reins for the men...\n",
       "2     4003  If you want sophisticated gowns with understat...\n",
       "3     4004  Want more? Be sure to check out Stylelist on T...\n",
       "4     4005  Miranda in the dress in April 2013: When the a...\n",
       "...    ...                                                ...\n",
       "3995  7996  “I’m always looking for new and innovative mat...\n",
       "3996  7997  The most stunning, yet scary manicures we've s...\n",
       "3997  7998        Back when MTV actually played music videos.\n",
       "3998  7999               Because of the black cats... get it?\n",
       "3999  8000  Want more? Be sure to check out HuffPost Style...\n",
       "\n",
       "[4000 rows x 2 columns]"
      ]
     },
     "execution_count": 17,
     "metadata": {},
     "output_type": "execute_result"
    }
   ],
   "source": [
    "beauty_message"
   ]
  },
  {
   "cell_type": "code",
   "execution_count": 18,
   "id": "429a624b-84d8-4d6b-92b5-ff83b10a77e1",
   "metadata": {},
   "outputs": [],
   "source": [
    "beauty_category = pd.DataFrame()\n",
    "beauty_category['id'] = ids = [i + 4001 for i in range(len(tweets))]\n",
    "beauty_category['category'] = 2"
   ]
  },
  {
   "cell_type": "code",
   "execution_count": 19,
   "id": "8191b459-be26-46c9-991c-58343fd16d85",
   "metadata": {},
   "outputs": [
    {
     "data": {
      "text/html": [
       "<div>\n",
       "<style scoped>\n",
       "    .dataframe tbody tr th:only-of-type {\n",
       "        vertical-align: middle;\n",
       "    }\n",
       "\n",
       "    .dataframe tbody tr th {\n",
       "        vertical-align: top;\n",
       "    }\n",
       "\n",
       "    .dataframe thead th {\n",
       "        text-align: right;\n",
       "    }\n",
       "</style>\n",
       "<table border=\"1\" class=\"dataframe\">\n",
       "  <thead>\n",
       "    <tr style=\"text-align: right;\">\n",
       "      <th></th>\n",
       "      <th>id</th>\n",
       "      <th>category</th>\n",
       "    </tr>\n",
       "  </thead>\n",
       "  <tbody>\n",
       "    <tr>\n",
       "      <th>0</th>\n",
       "      <td>4001</td>\n",
       "      <td>2</td>\n",
       "    </tr>\n",
       "    <tr>\n",
       "      <th>1</th>\n",
       "      <td>4002</td>\n",
       "      <td>2</td>\n",
       "    </tr>\n",
       "    <tr>\n",
       "      <th>2</th>\n",
       "      <td>4003</td>\n",
       "      <td>2</td>\n",
       "    </tr>\n",
       "    <tr>\n",
       "      <th>3</th>\n",
       "      <td>4004</td>\n",
       "      <td>2</td>\n",
       "    </tr>\n",
       "    <tr>\n",
       "      <th>4</th>\n",
       "      <td>4005</td>\n",
       "      <td>2</td>\n",
       "    </tr>\n",
       "    <tr>\n",
       "      <th>...</th>\n",
       "      <td>...</td>\n",
       "      <td>...</td>\n",
       "    </tr>\n",
       "    <tr>\n",
       "      <th>3995</th>\n",
       "      <td>7996</td>\n",
       "      <td>2</td>\n",
       "    </tr>\n",
       "    <tr>\n",
       "      <th>3996</th>\n",
       "      <td>7997</td>\n",
       "      <td>2</td>\n",
       "    </tr>\n",
       "    <tr>\n",
       "      <th>3997</th>\n",
       "      <td>7998</td>\n",
       "      <td>2</td>\n",
       "    </tr>\n",
       "    <tr>\n",
       "      <th>3998</th>\n",
       "      <td>7999</td>\n",
       "      <td>2</td>\n",
       "    </tr>\n",
       "    <tr>\n",
       "      <th>3999</th>\n",
       "      <td>8000</td>\n",
       "      <td>2</td>\n",
       "    </tr>\n",
       "  </tbody>\n",
       "</table>\n",
       "<p>4000 rows × 2 columns</p>\n",
       "</div>"
      ],
      "text/plain": [
       "        id  category\n",
       "0     4001         2\n",
       "1     4002         2\n",
       "2     4003         2\n",
       "3     4004         2\n",
       "4     4005         2\n",
       "...    ...       ...\n",
       "3995  7996         2\n",
       "3996  7997         2\n",
       "3997  7998         2\n",
       "3998  7999         2\n",
       "3999  8000         2\n",
       "\n",
       "[4000 rows x 2 columns]"
      ]
     },
     "execution_count": 19,
     "metadata": {},
     "output_type": "execute_result"
    }
   ],
   "source": [
    "beauty_category"
   ]
  },
  {
   "cell_type": "markdown",
   "id": "d9edd3f3-01b9-402e-a7a0-ab22d24d59bb",
   "metadata": {},
   "source": [
    "### `1.3 Study`\n",
    "___"
   ]
  },
  {
   "cell_type": "code",
   "execution_count": 20,
   "id": "1979e607-ef8f-47e9-8ba1-abde6c22e46c",
   "metadata": {},
   "outputs": [],
   "source": [
    "study = pd.read_csv('study.csv')"
   ]
  },
  {
   "cell_type": "code",
   "execution_count": 21,
   "id": "d8dfabd3-1b58-4292-acc5-91235581c4b5",
   "metadata": {},
   "outputs": [],
   "source": [
    "np.random.seed(1)\n",
    "\n",
    "study = study.iloc[np.random.randint(0, len(study), 4000), :]"
   ]
  },
  {
   "cell_type": "code",
   "execution_count": 22,
   "id": "28a89478-4e02-402d-9812-5eca160d7c39",
   "metadata": {},
   "outputs": [],
   "source": [
    "study_message = pd.DataFrame()\n",
    "study_message['id'] = ids = [i + 8001 for i in range(len(study))]\n",
    "study_message['message'] = study['message'].values"
   ]
  },
  {
   "cell_type": "code",
   "execution_count": 23,
   "id": "170360ff-6be6-4480-92cb-e508c3e6d798",
   "metadata": {},
   "outputs": [
    {
     "data": {
      "text/html": [
       "<div>\n",
       "<style scoped>\n",
       "    .dataframe tbody tr th:only-of-type {\n",
       "        vertical-align: middle;\n",
       "    }\n",
       "\n",
       "    .dataframe tbody tr th {\n",
       "        vertical-align: top;\n",
       "    }\n",
       "\n",
       "    .dataframe thead th {\n",
       "        text-align: right;\n",
       "    }\n",
       "</style>\n",
       "<table border=\"1\" class=\"dataframe\">\n",
       "  <thead>\n",
       "    <tr style=\"text-align: right;\">\n",
       "      <th></th>\n",
       "      <th>id</th>\n",
       "      <th>message</th>\n",
       "    </tr>\n",
       "  </thead>\n",
       "  <tbody>\n",
       "    <tr>\n",
       "      <th>0</th>\n",
       "      <td>8001</td>\n",
       "      <td>p-stable distributions</td>\n",
       "    </tr>\n",
       "    <tr>\n",
       "      <th>1</th>\n",
       "      <td>8002</td>\n",
       "      <td>I looked at the NLP</td>\n",
       "    </tr>\n",
       "    <tr>\n",
       "      <th>2</th>\n",
       "      <td>8003</td>\n",
       "      <td>Is the report published somewhere?</td>\n",
       "    </tr>\n",
       "    <tr>\n",
       "      <th>3</th>\n",
       "      <td>8004</td>\n",
       "      <td>10 doesn't work for me)\\n\\nNo, I scored on it,...</td>\n",
       "    </tr>\n",
       "    <tr>\n",
       "      <th>4</th>\n",
       "      <td>8005</td>\n",
       "      <td>and be offended that no one writes</td>\n",
       "    </tr>\n",
       "    <tr>\n",
       "      <th>...</th>\n",
       "      <td>...</td>\n",
       "      <td>...</td>\n",
       "    </tr>\n",
       "    <tr>\n",
       "      <th>3995</th>\n",
       "      <td>11996</td>\n",
       "      <td>Any questions?</td>\n",
       "    </tr>\n",
       "    <tr>\n",
       "      <th>3996</th>\n",
       "      <td>11997</td>\n",
       "      <td>tomorrow's momo joke for u?</td>\n",
       "    </tr>\n",
       "    <tr>\n",
       "      <th>3997</th>\n",
       "      <td>11998</td>\n",
       "      <td>If Ildus moves to Italy, it will be ildus da-s...</td>\n",
       "    </tr>\n",
       "    <tr>\n",
       "      <th>3998</th>\n",
       "      <td>11999</td>\n",
       "      <td>Opened the textbook and everything</td>\n",
       "    </tr>\n",
       "    <tr>\n",
       "      <th>3999</th>\n",
       "      <td>12000</td>\n",
       "      <td>Chelya still do not redeem to the hostel the t...</td>\n",
       "    </tr>\n",
       "  </tbody>\n",
       "</table>\n",
       "<p>4000 rows × 2 columns</p>\n",
       "</div>"
      ],
      "text/plain": [
       "         id                                            message\n",
       "0      8001                             p-stable distributions\n",
       "1      8002                                I looked at the NLP\n",
       "2      8003                 Is the report published somewhere?\n",
       "3      8004  10 doesn't work for me)\\n\\nNo, I scored on it,...\n",
       "4      8005                 and be offended that no one writes\n",
       "...     ...                                                ...\n",
       "3995  11996                                     Any questions?\n",
       "3996  11997                        tomorrow's momo joke for u?\n",
       "3997  11998  If Ildus moves to Italy, it will be ildus da-s...\n",
       "3998  11999                 Opened the textbook and everything\n",
       "3999  12000  Chelya still do not redeem to the hostel the t...\n",
       "\n",
       "[4000 rows x 2 columns]"
      ]
     },
     "execution_count": 23,
     "metadata": {},
     "output_type": "execute_result"
    }
   ],
   "source": [
    "study_message"
   ]
  },
  {
   "cell_type": "code",
   "execution_count": 24,
   "id": "16e70af7-2368-49c6-8966-d4a785e7d741",
   "metadata": {},
   "outputs": [],
   "source": [
    "study_category = pd.DataFrame()\n",
    "study_category['id'] = ids = [i + 8001 for i in range(len(study))]\n",
    "study_category['category'] = 0"
   ]
  },
  {
   "cell_type": "code",
   "execution_count": 25,
   "id": "33074d60-4df4-40ee-8a61-c701932e9d24",
   "metadata": {},
   "outputs": [
    {
     "data": {
      "text/html": [
       "<div>\n",
       "<style scoped>\n",
       "    .dataframe tbody tr th:only-of-type {\n",
       "        vertical-align: middle;\n",
       "    }\n",
       "\n",
       "    .dataframe tbody tr th {\n",
       "        vertical-align: top;\n",
       "    }\n",
       "\n",
       "    .dataframe thead th {\n",
       "        text-align: right;\n",
       "    }\n",
       "</style>\n",
       "<table border=\"1\" class=\"dataframe\">\n",
       "  <thead>\n",
       "    <tr style=\"text-align: right;\">\n",
       "      <th></th>\n",
       "      <th>id</th>\n",
       "      <th>category</th>\n",
       "    </tr>\n",
       "  </thead>\n",
       "  <tbody>\n",
       "    <tr>\n",
       "      <th>0</th>\n",
       "      <td>8001</td>\n",
       "      <td>0</td>\n",
       "    </tr>\n",
       "    <tr>\n",
       "      <th>1</th>\n",
       "      <td>8002</td>\n",
       "      <td>0</td>\n",
       "    </tr>\n",
       "    <tr>\n",
       "      <th>2</th>\n",
       "      <td>8003</td>\n",
       "      <td>0</td>\n",
       "    </tr>\n",
       "    <tr>\n",
       "      <th>3</th>\n",
       "      <td>8004</td>\n",
       "      <td>0</td>\n",
       "    </tr>\n",
       "    <tr>\n",
       "      <th>4</th>\n",
       "      <td>8005</td>\n",
       "      <td>0</td>\n",
       "    </tr>\n",
       "    <tr>\n",
       "      <th>...</th>\n",
       "      <td>...</td>\n",
       "      <td>...</td>\n",
       "    </tr>\n",
       "    <tr>\n",
       "      <th>3995</th>\n",
       "      <td>11996</td>\n",
       "      <td>0</td>\n",
       "    </tr>\n",
       "    <tr>\n",
       "      <th>3996</th>\n",
       "      <td>11997</td>\n",
       "      <td>0</td>\n",
       "    </tr>\n",
       "    <tr>\n",
       "      <th>3997</th>\n",
       "      <td>11998</td>\n",
       "      <td>0</td>\n",
       "    </tr>\n",
       "    <tr>\n",
       "      <th>3998</th>\n",
       "      <td>11999</td>\n",
       "      <td>0</td>\n",
       "    </tr>\n",
       "    <tr>\n",
       "      <th>3999</th>\n",
       "      <td>12000</td>\n",
       "      <td>0</td>\n",
       "    </tr>\n",
       "  </tbody>\n",
       "</table>\n",
       "<p>4000 rows × 2 columns</p>\n",
       "</div>"
      ],
      "text/plain": [
       "         id  category\n",
       "0      8001         0\n",
       "1      8002         0\n",
       "2      8003         0\n",
       "3      8004         0\n",
       "4      8005         0\n",
       "...     ...       ...\n",
       "3995  11996         0\n",
       "3996  11997         0\n",
       "3997  11998         0\n",
       "3998  11999         0\n",
       "3999  12000         0\n",
       "\n",
       "[4000 rows x 2 columns]"
      ]
     },
     "execution_count": 25,
     "metadata": {},
     "output_type": "execute_result"
    }
   ],
   "source": [
    "study_category"
   ]
  },
  {
   "cell_type": "markdown",
   "id": "d50383ab-afa6-4ab0-a35b-99b3b1e54f05",
   "metadata": {},
   "source": [
    "### `1.4 Объединение всех таблиц`\n",
    "___"
   ]
  },
  {
   "cell_type": "code",
   "execution_count": 26,
   "id": "7e73f070-0231-45cf-8e9e-f8dae16b0ac6",
   "metadata": {},
   "outputs": [],
   "source": [
    "all_id_texts = pd.concat([all_id_texts, beauty_message, crypto_message, study_message])"
   ]
  },
  {
   "cell_type": "code",
   "execution_count": 27,
   "id": "9c10102c-038a-4cae-a6d6-47763062d09a",
   "metadata": {},
   "outputs": [],
   "source": [
    "all_id_labels = pd.concat([all_id_labels, beauty_category, crypto_category, study_category])"
   ]
  },
  {
   "cell_type": "code",
   "execution_count": 28,
   "id": "f49171c8-300e-4aec-b98a-0522acb14887",
   "metadata": {},
   "outputs": [
    {
     "data": {
      "text/plain": [
       "0    5428\n",
       "2    5217\n",
       "1    5199\n",
       "Name: category, dtype: int64"
      ]
     },
     "execution_count": 28,
     "metadata": {},
     "output_type": "execute_result"
    }
   ],
   "source": [
    "all_id_labels['category'].value_counts()"
   ]
  },
  {
   "cell_type": "code",
   "execution_count": 29,
   "id": "24cad8ad-d131-4edb-a8d8-e40775e02ca4",
   "metadata": {},
   "outputs": [
    {
     "data": {
      "text/plain": [
       "15844"
      ]
     },
     "execution_count": 29,
     "metadata": {},
     "output_type": "execute_result"
    }
   ],
   "source": [
    "len(all_id_texts)"
   ]
  },
  {
   "cell_type": "code",
   "execution_count": 30,
   "id": "4f9e1abf-3155-4f72-b1d2-cbd700166770",
   "metadata": {},
   "outputs": [
    {
     "data": {
      "text/html": [
       "<div>\n",
       "<style scoped>\n",
       "    .dataframe tbody tr th:only-of-type {\n",
       "        vertical-align: middle;\n",
       "    }\n",
       "\n",
       "    .dataframe tbody tr th {\n",
       "        vertical-align: top;\n",
       "    }\n",
       "\n",
       "    .dataframe thead th {\n",
       "        text-align: right;\n",
       "    }\n",
       "</style>\n",
       "<table border=\"1\" class=\"dataframe\">\n",
       "  <thead>\n",
       "    <tr style=\"text-align: right;\">\n",
       "      <th></th>\n",
       "      <th>id</th>\n",
       "      <th>message</th>\n",
       "    </tr>\n",
       "  </thead>\n",
       "  <tbody>\n",
       "    <tr>\n",
       "      <th>0</th>\n",
       "      <td>271828</td>\n",
       "      <td>Over $616 million in Bitcoin was electrocated ...</td>\n",
       "    </tr>\n",
       "    <tr>\n",
       "      <th>1</th>\n",
       "      <td>271829</td>\n",
       "      <td>Quiz: Thursday or friday?</td>\n",
       "    </tr>\n",
       "    <tr>\n",
       "      <th>2</th>\n",
       "      <td>271830</td>\n",
       "      <td>The Australian Revenue Authority will start co...</td>\n",
       "    </tr>\n",
       "    <tr>\n",
       "      <th>3</th>\n",
       "      <td>271831</td>\n",
       "      <td>Let's continue😉. I present to you my new review</td>\n",
       "    </tr>\n",
       "    <tr>\n",
       "      <th>4</th>\n",
       "      <td>271832</td>\n",
       "      <td>Here comes your future palette.</td>\n",
       "    </tr>\n",
       "  </tbody>\n",
       "</table>\n",
       "</div>"
      ],
      "text/plain": [
       "       id                                            message\n",
       "0  271828  Over $616 million in Bitcoin was electrocated ...\n",
       "1  271829                          Quiz: Thursday or friday?\n",
       "2  271830  The Australian Revenue Authority will start co...\n",
       "3  271831   Let's continue😉. I present to you my new review \n",
       "4  271832                    Here comes your future palette."
      ]
     },
     "execution_count": 30,
     "metadata": {},
     "output_type": "execute_result"
    }
   ],
   "source": [
    "all_id_texts.head()"
   ]
  },
  {
   "cell_type": "code",
   "execution_count": 31,
   "id": "d4c715a0-e881-4490-a61b-874f66270c85",
   "metadata": {},
   "outputs": [
    {
     "data": {
      "text/plain": [
       "15844"
      ]
     },
     "execution_count": 31,
     "metadata": {},
     "output_type": "execute_result"
    }
   ],
   "source": [
    "len(all_id_labels)"
   ]
  },
  {
   "cell_type": "code",
   "execution_count": 32,
   "id": "8a93ae27-147b-486d-8508-f6305a955f97",
   "metadata": {},
   "outputs": [
    {
     "data": {
      "text/html": [
       "<div>\n",
       "<style scoped>\n",
       "    .dataframe tbody tr th:only-of-type {\n",
       "        vertical-align: middle;\n",
       "    }\n",
       "\n",
       "    .dataframe tbody tr th {\n",
       "        vertical-align: top;\n",
       "    }\n",
       "\n",
       "    .dataframe thead th {\n",
       "        text-align: right;\n",
       "    }\n",
       "</style>\n",
       "<table border=\"1\" class=\"dataframe\">\n",
       "  <thead>\n",
       "    <tr style=\"text-align: right;\">\n",
       "      <th></th>\n",
       "      <th>id</th>\n",
       "      <th>category</th>\n",
       "    </tr>\n",
       "  </thead>\n",
       "  <tbody>\n",
       "    <tr>\n",
       "      <th>0</th>\n",
       "      <td>271828</td>\n",
       "      <td>1</td>\n",
       "    </tr>\n",
       "    <tr>\n",
       "      <th>1</th>\n",
       "      <td>271829</td>\n",
       "      <td>0</td>\n",
       "    </tr>\n",
       "    <tr>\n",
       "      <th>2</th>\n",
       "      <td>271830</td>\n",
       "      <td>1</td>\n",
       "    </tr>\n",
       "    <tr>\n",
       "      <th>3</th>\n",
       "      <td>271831</td>\n",
       "      <td>2</td>\n",
       "    </tr>\n",
       "    <tr>\n",
       "      <th>4</th>\n",
       "      <td>271832</td>\n",
       "      <td>2</td>\n",
       "    </tr>\n",
       "  </tbody>\n",
       "</table>\n",
       "</div>"
      ],
      "text/plain": [
       "       id  category\n",
       "0  271828         1\n",
       "1  271829         0\n",
       "2  271830         1\n",
       "3  271831         2\n",
       "4  271832         2"
      ]
     },
     "execution_count": 32,
     "metadata": {},
     "output_type": "execute_result"
    }
   ],
   "source": [
    "all_id_labels.head()"
   ]
  },
  {
   "cell_type": "markdown",
   "id": "682b4d07-5d07-4ac2-82cf-6898b6229f8e",
   "metadata": {},
   "source": [
    "___"
   ]
  },
  {
   "cell_type": "code",
   "execution_count": 33,
   "id": "15dd5195-dca6-463e-ab36-56724b4891f6",
   "metadata": {},
   "outputs": [
    {
     "data": {
      "text/plain": [
       "5927"
      ]
     },
     "execution_count": 33,
     "metadata": {},
     "output_type": "execute_result"
    }
   ],
   "source": [
    "len(test_id_texts)"
   ]
  },
  {
   "cell_type": "code",
   "execution_count": 34,
   "id": "aaadca5a-db7c-4d8c-983d-eb078b2ffffd",
   "metadata": {},
   "outputs": [
    {
     "data": {
      "text/html": [
       "<div>\n",
       "<style scoped>\n",
       "    .dataframe tbody tr th:only-of-type {\n",
       "        vertical-align: middle;\n",
       "    }\n",
       "\n",
       "    .dataframe tbody tr th {\n",
       "        vertical-align: top;\n",
       "    }\n",
       "\n",
       "    .dataframe thead th {\n",
       "        text-align: right;\n",
       "    }\n",
       "</style>\n",
       "<table border=\"1\" class=\"dataframe\">\n",
       "  <thead>\n",
       "    <tr style=\"text-align: right;\">\n",
       "      <th></th>\n",
       "      <th>id</th>\n",
       "      <th>message</th>\n",
       "    </tr>\n",
       "  </thead>\n",
       "  <tbody>\n",
       "    <tr>\n",
       "      <th>0</th>\n",
       "      <td>275672</td>\n",
       "      <td>But a lot of people have a job fair tonight.</td>\n",
       "    </tr>\n",
       "    <tr>\n",
       "      <th>1</th>\n",
       "      <td>275673</td>\n",
       "      <td>Also, I got only 4 answers on the google form ...</td>\n",
       "    </tr>\n",
       "    <tr>\n",
       "      <th>2</th>\n",
       "      <td>275674</td>\n",
       "      <td>Vladimir, when will we have seminar?</td>\n",
       "    </tr>\n",
       "    <tr>\n",
       "      <th>3</th>\n",
       "      <td>275675</td>\n",
       "      <td>A couple at 111, too?</td>\n",
       "    </tr>\n",
       "    <tr>\n",
       "      <th>4</th>\n",
       "      <td>275676</td>\n",
       "      <td>It's on Anti-buying. And again, Zara:</td>\n",
       "    </tr>\n",
       "  </tbody>\n",
       "</table>\n",
       "</div>"
      ],
      "text/plain": [
       "       id                                            message\n",
       "0  275672       But a lot of people have a job fair tonight.\n",
       "1  275673  Also, I got only 4 answers on the google form ...\n",
       "2  275674               Vladimir, when will we have seminar?\n",
       "3  275675                              A couple at 111, too?\n",
       "4  275676              It's on Anti-buying. And again, Zara:"
      ]
     },
     "execution_count": 34,
     "metadata": {},
     "output_type": "execute_result"
    }
   ],
   "source": [
    "test_id_texts.head()"
   ]
  },
  {
   "cell_type": "code",
   "execution_count": 35,
   "id": "6f001229-b706-4f36-b553-4b41881a1b7e",
   "metadata": {},
   "outputs": [
    {
     "data": {
      "text/plain": [
       "5927"
      ]
     },
     "execution_count": 35,
     "metadata": {},
     "output_type": "execute_result"
    }
   ],
   "source": [
    "len(sample_submission)"
   ]
  },
  {
   "cell_type": "code",
   "execution_count": 36,
   "id": "056bd75a-57ac-458a-82b8-10e5b47ff0c0",
   "metadata": {},
   "outputs": [
    {
     "data": {
      "text/html": [
       "<div>\n",
       "<style scoped>\n",
       "    .dataframe tbody tr th:only-of-type {\n",
       "        vertical-align: middle;\n",
       "    }\n",
       "\n",
       "    .dataframe tbody tr th {\n",
       "        vertical-align: top;\n",
       "    }\n",
       "\n",
       "    .dataframe thead th {\n",
       "        text-align: right;\n",
       "    }\n",
       "</style>\n",
       "<table border=\"1\" class=\"dataframe\">\n",
       "  <thead>\n",
       "    <tr style=\"text-align: right;\">\n",
       "      <th></th>\n",
       "      <th>id</th>\n",
       "      <th>category</th>\n",
       "    </tr>\n",
       "  </thead>\n",
       "  <tbody>\n",
       "    <tr>\n",
       "      <th>0</th>\n",
       "      <td>275672</td>\n",
       "      <td>0</td>\n",
       "    </tr>\n",
       "    <tr>\n",
       "      <th>1</th>\n",
       "      <td>275673</td>\n",
       "      <td>2</td>\n",
       "    </tr>\n",
       "    <tr>\n",
       "      <th>2</th>\n",
       "      <td>275674</td>\n",
       "      <td>0</td>\n",
       "    </tr>\n",
       "    <tr>\n",
       "      <th>3</th>\n",
       "      <td>275675</td>\n",
       "      <td>1</td>\n",
       "    </tr>\n",
       "    <tr>\n",
       "      <th>4</th>\n",
       "      <td>275676</td>\n",
       "      <td>1</td>\n",
       "    </tr>\n",
       "  </tbody>\n",
       "</table>\n",
       "</div>"
      ],
      "text/plain": [
       "       id  category\n",
       "0  275672         0\n",
       "1  275673         2\n",
       "2  275674         0\n",
       "3  275675         1\n",
       "4  275676         1"
      ]
     },
     "execution_count": 36,
     "metadata": {},
     "output_type": "execute_result"
    }
   ],
   "source": [
    "sample_submission.head()"
   ]
  },
  {
   "cell_type": "markdown",
   "id": "ce52be8d-ce81-4e04-a422-cb16366c1171",
   "metadata": {},
   "source": [
    "## `2. Разделение на обучающую и валидационную выборки`\n",
    "___"
   ]
  },
  {
   "cell_type": "code",
   "execution_count": 37,
   "id": "190a409f-bd84-40ba-9a84-b33c97229d5e",
   "metadata": {},
   "outputs": [],
   "source": [
    "train_id_labels, validation_id_labels = train_test_split(all_id_labels, test_size=0.2, random_state=1, stratify=all_id_labels['category'])"
   ]
  },
  {
   "cell_type": "code",
   "execution_count": 38,
   "id": "55b3aa9e-5935-4e85-8857-bd522f4ba2ea",
   "metadata": {},
   "outputs": [
    {
     "data": {
      "text/plain": [
       "(12675, 3169)"
      ]
     },
     "execution_count": 38,
     "metadata": {},
     "output_type": "execute_result"
    }
   ],
   "source": [
    "len(train_id_labels), len(validation_id_labels)"
   ]
  },
  {
   "cell_type": "code",
   "execution_count": 39,
   "id": "212cdd88-222f-4476-8b86-6917245bb294",
   "metadata": {},
   "outputs": [],
   "source": [
    "train_id_labels = train_id_labels.sort_values(by=['id'])\n",
    "validation_id_labels = validation_id_labels.sort_values(by=['id'])"
   ]
  },
  {
   "cell_type": "code",
   "execution_count": 40,
   "id": "12bfc29e-8f6b-44b7-82a7-f02a3f4e44af",
   "metadata": {},
   "outputs": [],
   "source": [
    "mask = all_id_labels['id'].isin(train_id_labels['id'].values)\n",
    "\n",
    "train_id_texts = all_id_texts[mask]\n",
    "validation_id_texts = all_id_texts[~mask]"
   ]
  },
  {
   "cell_type": "markdown",
   "id": "408d4fa4-793a-4e0b-8253-903d4541a1a2",
   "metadata": {},
   "source": [
    "## `3. Токенизация`\n",
    "___"
   ]
  },
  {
   "cell_type": "code",
   "execution_count": 41,
   "id": "92783ba2-e3d5-40ce-853d-a3b943d999e1",
   "metadata": {},
   "outputs": [],
   "source": [
    "tokenizer = nltk.data.load('tokenizers/punkt/english.pickle')"
   ]
  },
  {
   "cell_type": "code",
   "execution_count": 55,
   "id": "f6a40b9e-3b99-435e-a51f-fc334c841923",
   "metadata": {},
   "outputs": [],
   "source": [
    "def review_to_wordlist(review, remove_stopwords=False):\n",
    "    # remove links\n",
    "    review = re.sub(r\"http[s]?://(?:[a-zA-Z]|[0-9]|[$-_@.&+]|[!*\\(\\),]|(?:%[0-9a-fA-F][0-9a-fA-F]))+\", \" \", review)\n",
    "    # get the text from the page\n",
    "    review_text = BeautifulSoup(review, \"lxml\").get_text()\n",
    "    # leave only words\n",
    "    review_text = re.sub(\"[^a-zA-Z]\",\" \", review_text)\n",
    "    # convert to lowercase and split into words using space character\n",
    "    words = review_text.lower().split()\n",
    "    if remove_stopwords: # remove stopwords\n",
    "        stops = stopwords.words(\"english\")\n",
    "        words = [w for w in words if not w in stops]\n",
    "    return(words)\n",
    "\n",
    "def review_to_sentences(review, tokenizer, remove_stopwords=False):\n",
    "    # break the review oto sentences\n",
    "    raw_sentences = tokenizer.tokenize(review.strip())\n",
    "    sentences = []\n",
    "    # apply the function to each sentence\n",
    "    for raw_sentence in raw_sentences:\n",
    "        if len(raw_sentence) > 0:\n",
    "            sentences.append(review_to_wordlist(raw_sentence, remove_stopwords))\n",
    "    return sentences"
   ]
  },
  {
   "cell_type": "code",
   "execution_count": 56,
   "id": "0ba8606f-c4b5-48e4-b7d3-e0755f79f82e",
   "metadata": {
    "collapsed": true,
    "jupyter": {
     "outputs_hidden": true
    },
    "tags": []
   },
   "outputs": [
    {
     "name": "stdout",
     "output_type": "stream",
     "text": [
      "Parsing sentences from training set...\n"
     ]
    },
    {
     "name": "stderr",
     "output_type": "stream",
     "text": [
      "  0%|          | 0/12675 [00:00<?, ?it/s]C:\\Users\\apmil\\anaconda3\\envs\\tensorflow_session\\lib\\site-packages\\bs4\\__init__.py:435: MarkupResemblesLocatorWarning: The input looks more like a filename than markup. You may want to open this file and pass the filehandle into Beautiful Soup.\n",
      "  warnings.warn(\n",
      "100%|██████████| 12675/12675 [00:11<00:00, 1081.17it/s]\n"
     ]
    }
   ],
   "source": [
    "train_sentences = []\n",
    "\n",
    "print(\"Parsing sentences from training set...\")\n",
    "for review in tqdm(train_id_texts['message']):\n",
    "    train_sentences += review_to_sentences(review, tokenizer)"
   ]
  },
  {
   "cell_type": "code",
   "execution_count": 57,
   "id": "d7a5a831-ab80-4c56-aa21-e5a79dd876b8",
   "metadata": {},
   "outputs": [
    {
     "name": "stdout",
     "output_type": "stream",
     "text": [
      "24627\n",
      "[['over', 'million', 'in', 'bitcoin', 'was', 'electrocated', 'in', 'september', 'with', 'wrapped', 'bitcoin', 'wbtc', 'data', 'from', 'coindesk'], ['the', 'emissions', 'increased', 'by', 'more', 'than', 'per', 'cent', 'compared', 'to', 'august', 'when', 'million', 'was', 'currentized']]\n"
     ]
    }
   ],
   "source": [
    "print(len(train_sentences))\n",
    "print(train_sentences[:2])"
   ]
  },
  {
   "cell_type": "markdown",
   "id": "a6275c92-19d8-4bc0-a5c4-7b6784ab29d0",
   "metadata": {},
   "source": [
    "## `4. Построение Word2Vec-модели`\n",
    "___"
   ]
  },
  {
   "cell_type": "code",
   "execution_count": 93,
   "id": "db5797a5-e7af-4178-b692-1b6db85fe6ee",
   "metadata": {},
   "outputs": [],
   "source": [
    "from gensim.models import word2vec"
   ]
  },
  {
   "cell_type": "code",
   "execution_count": 94,
   "id": "7c7a15de-1246-4309-8834-cfb214a657b8",
   "metadata": {},
   "outputs": [],
   "source": [
    "word2vec_model = \\\n",
    "    word2vec.Word2Vec(\n",
    "        train_sentences,\n",
    "        workers=4,\n",
    "        vector_size=embedding_size,\n",
    "        min_count=15,\n",
    "        window=10,\n",
    "        sample=1e-3,\n",
    "        epochs=100\n",
    "    )"
   ]
  },
  {
   "cell_type": "markdown",
   "id": "55a3e1a4-d2ef-48a0-b171-51797d46cbd0",
   "metadata": {},
   "source": [
    "### `4.1 Задание №2 для отчета`\n",
    "\n",
    "**Задание:** Необходимо получить представление для фразы `\"My future\"` в построенным мною признаковом пространстве (эмбеддинги токенов), а затем найти ближайший пример из обучающей выборки.\n",
    "___"
   ]
  },
  {
   "cell_type": "code",
   "execution_count": 125,
   "id": "01e5e7a3-1652-44fd-9370-9fe174875357",
   "metadata": {},
   "outputs": [
    {
     "data": {
      "text/plain": [
       "(300,)"
      ]
     },
     "execution_count": 125,
     "metadata": {},
     "output_type": "execute_result"
    }
   ],
   "source": [
    "sum_of_tokens = (word2vec_model.wv['my'] + word2vec_model.wv['future']) / 2\n",
    "sum_of_tokens.shape"
   ]
  },
  {
   "cell_type": "code",
   "execution_count": 126,
   "id": "33a87791-6ada-460e-b99d-05bafb144f13",
   "metadata": {},
   "outputs": [
    {
     "data": {
      "text/plain": [
       "[('my', 0.6688421964645386),\n",
       " ('future', 0.5974202752113342),\n",
       " ('upside', 0.2832581400871277),\n",
       " ('myself', 0.2531781494617462),\n",
       " ('i', 0.2522510886192322),\n",
       " ('dogs', 0.2446313202381134),\n",
       " ('pain', 0.2443465143442154),\n",
       " ('afraid', 0.22892029583454132),\n",
       " ('anymore', 0.22891657054424286),\n",
       " ('anywhere', 0.22476759552955627)]"
      ]
     },
     "execution_count": 126,
     "metadata": {},
     "output_type": "execute_result"
    }
   ],
   "source": [
    "word2vec_model.wv.most_similar(positive=sum_of_tokens, topn=10)"
   ]
  },
  {
   "cell_type": "markdown",
   "id": "bffc25a1-24e6-4755-8bab-737536e70d58",
   "metadata": {},
   "source": [
    "**Комментарий:**\n",
    "\n",
    "Составив фразу `\"My future\"`, как усредненную сумму эмбеддингов слов `\"my\"` и `\"future\"`, ближайшими нетривиальными примерами из обучающей выборки оказались следующие 4 слова:\n",
    "\n",
    "* `upside` (от англ. потенциал, преимущство) - *видимо я раскрою свой потенциал* \n",
    "* `dogs` (от англ. собачки) - *ура, у меня появится собачка, да не одна, сейчас никого нету и не хватает как раз(* \n",
    "* `pain` (от англ. боль) - *вот это меня пугает) надеюсь это предсказание ошибочно*\n",
    "* `afraid` (от англ. страх) - *я уже натерпелся страха с пересдачами (я все пересдал слава богу), надеюсь это предсказание также ошибочно*"
   ]
  },
  {
   "cell_type": "markdown",
   "id": "399ee0c5-d8cf-4aeb-be55-cb0733fa3025",
   "metadata": {},
   "source": [
    "### `4.2 Тестирование построенных токенов`\n",
    "___"
   ]
  },
  {
   "cell_type": "code",
   "execution_count": 127,
   "id": "d0442388-89d5-4777-bf0f-7da43f46ab9e",
   "metadata": {},
   "outputs": [
    {
     "data": {
      "text/plain": [
       "(24627, 24627)"
      ]
     },
     "execution_count": 127,
     "metadata": {},
     "output_type": "execute_result"
    }
   ],
   "source": [
    "word2vec_model.corpus_count, len(train_sentences)"
   ]
  },
  {
   "cell_type": "code",
   "execution_count": 128,
   "id": "872a56a6-2754-4bd6-99ba-4f0f76815c01",
   "metadata": {},
   "outputs": [
    {
     "data": {
      "text/plain": [
       "340239"
      ]
     },
     "execution_count": 128,
     "metadata": {},
     "output_type": "execute_result"
    }
   ],
   "source": [
    "word2vec_model.corpus_total_words"
   ]
  },
  {
   "cell_type": "code",
   "execution_count": 129,
   "id": "d325f870-1a89-4ee7-aee8-281e28860199",
   "metadata": {},
   "outputs": [
    {
     "data": {
      "text/plain": [
       "(2507, 2507)"
      ]
     },
     "execution_count": 129,
     "metadata": {},
     "output_type": "execute_result"
    }
   ],
   "source": [
    "len(word2vec_model.wv), len(word2vec_model.wv.index_to_key)"
   ]
  },
  {
   "cell_type": "code",
   "execution_count": 130,
   "id": "b440173a-b8c8-4a0c-aecd-54fe93f7ad15",
   "metadata": {},
   "outputs": [
    {
     "data": {
      "text/plain": [
       "['the', 'to', 'of', 'and', 'a']"
      ]
     },
     "execution_count": 130,
     "metadata": {},
     "output_type": "execute_result"
    }
   ],
   "source": [
    "word2vec_model.wv.index_to_key[:5]"
   ]
  },
  {
   "cell_type": "code",
   "execution_count": 131,
   "id": "84d3b6fa-3d64-4c09-9158-9f3d196b88b0",
   "metadata": {},
   "outputs": [
    {
     "data": {
      "text/plain": [
       "('the', 'ema')"
      ]
     },
     "execution_count": 131,
     "metadata": {},
     "output_type": "execute_result"
    }
   ],
   "source": [
    "word2vec_model.wv.index_to_key[0], word2vec_model.wv.index_to_key[2262]"
   ]
  },
  {
   "cell_type": "code",
   "execution_count": 132,
   "id": "911b562e-3b84-4f03-9a39-44b6674b7bee",
   "metadata": {},
   "outputs": [
    {
     "name": "stdout",
     "output_type": "stream",
     "text": [
      "300\n"
     ]
    }
   ],
   "source": [
    "word = 'bitcoin'\n",
    "\n",
    "try:\n",
    "    print(len(word2vec_model.wv[word]))\n",
    "except:\n",
    "    print('Doens\\'t have this word')"
   ]
  },
  {
   "cell_type": "code",
   "execution_count": 133,
   "id": "cdf56365-e3c6-4475-a1ce-308d955cf972",
   "metadata": {},
   "outputs": [
    {
     "name": "stdout",
     "output_type": "stream",
     "text": [
      "Doens't have this word\n"
     ]
    }
   ],
   "source": [
    "word = 'hololens'\n",
    "\n",
    "try:\n",
    "    print(len(word2vec_model.wv[word]))\n",
    "except:\n",
    "    print('Doens\\'t have this word')"
   ]
  },
  {
   "cell_type": "code",
   "execution_count": 134,
   "id": "1dfc50f8-f40f-46a2-9899-328408085771",
   "metadata": {},
   "outputs": [
    {
     "data": {
      "text/plain": [
       "[('soars', 0.3881227374076843),\n",
       " ('eth', 0.3777061700820923),\n",
       " ('cryptivate', 0.3640345335006714),\n",
       " ('crypto', 0.36187246441841125),\n",
       " ('losses', 0.3488355576992035)]"
      ]
     },
     "execution_count": 134,
     "metadata": {},
     "output_type": "execute_result"
    }
   ],
   "source": [
    "word2vec_model.wv.most_similar(positive='bitcoin', topn=5)"
   ]
  },
  {
   "cell_type": "markdown",
   "id": "a9771c1c-6444-442b-b244-3b9ff47f63fd",
   "metadata": {
    "tags": []
   },
   "source": [
    "## `5. Формирование таблиц (train, validation, test) с эмбеддинговыми описаниями текстов`\n",
    "___"
   ]
  },
  {
   "cell_type": "code",
   "execution_count": null,
   "id": "b24b1db4-be3c-4df2-ad0f-a7f550b608e4",
   "metadata": {
    "tags": []
   },
   "outputs": [],
   "source": [
    "def create_embeddings_by_texts(id_texts):\n",
    "    all_emb = None\n",
    "    for id in tqdm(id_texts['id']):\n",
    "        mask = (id_texts['id'] == id)\n",
    "        text = id_texts[mask]['message'].values[0]\n",
    "        text_tokens = review_to_wordlist(text, tokenizer)\n",
    "        text_emb = np.zeros(embedding_size)\n",
    "\n",
    "        received_tokens_amount = 0\n",
    "        for token in text_tokens:\n",
    "            try: \n",
    "                text_emb += word2vec_model.wv[token]\n",
    "                received_tokens_amount += 1\n",
    "            except:\n",
    "                pass\n",
    "\n",
    "        if received_tokens_amount != 0:\n",
    "            text_emb = text_emb / received_tokens_amount\n",
    "\n",
    "        text_emb = np.concatenate(([id], text_emb))\n",
    "        text_emb = text_emb.reshape(1, embedding_size + 1)\n",
    "\n",
    "        if all_emb is None:\n",
    "            all_emb = text_emb\n",
    "        else:\n",
    "            all_emb = np.concatenate((all_emb, text_emb))\n",
    "\n",
    "        df = pd.DataFrame(all_emb, columns=['id'] + [i for i in range(embedding_size)])\n",
    "        df['id'] = df['id'].astype(int)\n",
    "    return df.copy()"
   ]
  },
  {
   "cell_type": "code",
   "execution_count": null,
   "id": "993dc9b2-fc4d-46e6-ad1e-83f76a2e15c7",
   "metadata": {
    "tags": []
   },
   "outputs": [],
   "source": [
    "train_emb = create_embeddings_by_texts(train_id_texts)"
   ]
  },
  {
   "cell_type": "code",
   "execution_count": null,
   "id": "6c143a6c-3265-478c-8778-b31524f853a6",
   "metadata": {
    "tags": []
   },
   "outputs": [],
   "source": [
    "validation_emb = create_embeddings_by_texts(validation_id_texts)"
   ]
  },
  {
   "cell_type": "code",
   "execution_count": null,
   "id": "03006226-2c63-46d6-8e5f-7eabe4e95dab",
   "metadata": {
    "tags": []
   },
   "outputs": [],
   "source": [
    "test_emb = create_embeddings_by_texts(test_id_texts)"
   ]
  },
  {
   "cell_type": "code",
   "execution_count": null,
   "id": "86abccd7-4e74-4bdf-88c7-a8735072c2e2",
   "metadata": {},
   "outputs": [],
   "source": [
    "X_train = train_emb.iloc[:, 1:]\n",
    "y_train = train_id_labels['category'].values\n",
    "\n",
    "X_train.shape, y_train.shape"
   ]
  },
  {
   "cell_type": "code",
   "execution_count": null,
   "id": "2c9678bb-fffc-46bd-8c5c-beced73d2b2e",
   "metadata": {},
   "outputs": [],
   "source": [
    "X_val = validation_emb.iloc[:, 1:]\n",
    "y_val = validation_id_labels['category'].values\n",
    "\n",
    "X_val.shape, y_val.shape"
   ]
  },
  {
   "cell_type": "code",
   "execution_count": null,
   "id": "9fea1a63-7da9-43ea-a65e-0b124966693a",
   "metadata": {},
   "outputs": [],
   "source": [
    "X_test = test_emb.iloc[:, 1:]\n",
    "\n",
    "X_test.shape"
   ]
  },
  {
   "cell_type": "markdown",
   "id": "5b9dfbe2-1082-4a97-8e1c-a830644bb81d",
   "metadata": {},
   "source": [
    "## `6. Предсказание на CatBoost`\n",
    "___"
   ]
  },
  {
   "cell_type": "code",
   "execution_count": null,
   "id": "b1bef4a4-50dc-4b1b-82ed-f89956cb2259",
   "metadata": {},
   "outputs": [],
   "source": [
    "from catboost import CatBoostClassifier"
   ]
  },
  {
   "cell_type": "code",
   "execution_count": null,
   "id": "fc35a3e4-0154-4362-ab18-04e574d542d8",
   "metadata": {
    "tags": []
   },
   "outputs": [],
   "source": [
    "model = CatBoostClassifier(verbose=True, random_seed=1)\n",
    "model.fit(X_train, y_train)"
   ]
  },
  {
   "cell_type": "code",
   "execution_count": null,
   "id": "eaea09f2-4024-422d-9c00-56ef5f19c7f7",
   "metadata": {},
   "outputs": [],
   "source": [
    "pred_train = model.predict(X_train)\n",
    "pred_val = model.predict(X_val)\n",
    "pred_test = model.predict(X_test)"
   ]
  },
  {
   "cell_type": "code",
   "execution_count": null,
   "id": "5f93f22d-aa73-42df-9135-ee428ced9ab3",
   "metadata": {},
   "outputs": [],
   "source": [
    "pred_train = pred_train.reshape(-1)\n",
    "pred_val = pred_val.reshape(-1)\n",
    "pred_test = pred_test.reshape(-1)"
   ]
  },
  {
   "cell_type": "code",
   "execution_count": null,
   "id": "df961266-4b3c-4a00-a7f7-7c69f33a6290",
   "metadata": {},
   "outputs": [],
   "source": [
    "y_train.shape, pred_train.shape"
   ]
  },
  {
   "cell_type": "code",
   "execution_count": null,
   "id": "5a10c899-7bdf-4858-ab65-ca3540c6ff0f",
   "metadata": {},
   "outputs": [],
   "source": [
    "y_val.shape, pred_val.shape"
   ]
  },
  {
   "cell_type": "code",
   "execution_count": null,
   "id": "9f9310e9-d9e9-4b21-9b17-20b377e40a95",
   "metadata": {},
   "outputs": [],
   "source": [
    "print('Train acc.:\\t {:.4f}'.format((pred_train == y_train).mean()))\n",
    "print('Val acc.:\\t {:.4f}'.format((pred_val == y_val).mean()))\n",
    "print()"
   ]
  },
  {
   "cell_type": "code",
   "execution_count": null,
   "id": "f79dbbe1-65da-471c-948b-d4f50ed194f6",
   "metadata": {},
   "outputs": [],
   "source": [
    "model.save_model('cat_boost_model')"
   ]
  },
  {
   "cell_type": "markdown",
   "id": "7090447f-99d5-41af-a944-0bcc41294cc5",
   "metadata": {},
   "source": [
    "## `7. Предсказание на RNN`\n",
    "___"
   ]
  },
  {
   "cell_type": "code",
   "execution_count": null,
   "id": "bfa641cc-c0d3-4e49-9498-27cdbca45167",
   "metadata": {},
   "outputs": [],
   "source": [
    "from torch import nn\n",
    "from matplotlib import pyplot as plt \n",
    "from IPython.display import clear_output\n",
    "\n",
    "import torch\n",
    "import torch.nn.functional as F"
   ]
  },
  {
   "cell_type": "code",
   "execution_count": null,
   "id": "ca12917a-9830-48a9-9f4f-c4736f641379",
   "metadata": {},
   "outputs": [],
   "source": [
    "def plot_graphics(accs_train_epoch, accs_val_epoch, losses_train_epoch, losses_val_epoch=None):\n",
    "    fig, axs = plt.subplots(1, 2, figsize=(13, 4))\n",
    "\n",
    "    axs[0].plot(range(1, len(accs_train_epoch) + 1), accs_train_epoch, label='train', color='blue', alpha=0.9)\n",
    "    axs[0].plot(range(1, len(accs_val_epoch) + 1), accs_val_epoch, label='val', color='green', alpha=0.9)\n",
    "    axs[0].set_ylabel('accuracy', fontsize=12)\n",
    "\n",
    "    axs[1].plot(range(1, len(losses_train_epoch) + 1), losses_train_epoch, label='train', color='blue', alpha=0.9)\n",
    "    axs[1].set_ylabel('loss', fontsize=12)\n",
    "\n",
    "    for ax in axs:\n",
    "        ax.grid()\n",
    "        ax.set_xlabel('epochs', fontsize=12)\n",
    "        ax.legend()\n",
    "        \n",
    "    plt.show()"
   ]
  },
  {
   "cell_type": "code",
   "execution_count": null,
   "id": "b27a682b-a1de-4ae2-976f-5bf1419195b7",
   "metadata": {},
   "outputs": [],
   "source": [
    "def text_tokens_to_embs(text_tokens):\n",
    "    text_embs = []\n",
    "\n",
    "    for token in text_tokens:\n",
    "        try:\n",
    "            text_embs += [word2vec_model.wv[token].tolist()]\n",
    "        except:\n",
    "            pass\n",
    "        \n",
    "    return text_embs"
   ]
  },
  {
   "cell_type": "code",
   "execution_count": null,
   "id": "f9a3635c-e0b2-47b8-a317-6732900c7bb9",
   "metadata": {},
   "outputs": [],
   "source": [
    "class RNNCell(nn.Module):\n",
    "    def __init__(self, input_size, hidden_size):\n",
    "        super().__init__()\n",
    "        \n",
    "        self.hidden_size = hidden_size\n",
    "        ###------------------------------------------------------###\n",
    "        self.fc_x = nn.Linear(input_size, hidden_size)\n",
    "        self.fc_h = nn.Linear(hidden_size, hidden_size)\n",
    "        ###------------------------------------------------------###\n",
    "\n",
    "    def forward(self, input, hidden):\n",
    "        return torch.tanh(self.fc_x(input) + self.fc_h(hidden))\n",
    "\n",
    "    def initHidden(self):\n",
    "        return torch.zeros(1, self.hidden_size)"
   ]
  },
  {
   "cell_type": "code",
   "execution_count": null,
   "id": "3554b03a-27c5-4dc4-a7d4-3d3ed99a1e6f",
   "metadata": {},
   "outputs": [],
   "source": [
    "def train(optimizer, text_embs, category_tensor, category):\n",
    "    hidden = rnncell.initHidden()\n",
    "\n",
    "    rnncell.zero_grad()\n",
    "    classifier.zero_grad()\n",
    "\n",
    "    ###---------------------------------------------###\n",
    "    for i in range(len(text_embs)):\n",
    "        hidden = rnncell.forward(torch.tensor(text_embs[i]), hidden)\n",
    "        \n",
    "    output = classifier(hidden)\n",
    "    ###---------------------------------------------###\n",
    "\n",
    "    loss = F.nll_loss(output, category_tensor)\n",
    "    loss.backward()\n",
    "    optimizer.step()\n",
    "    \n",
    "    pred_category = output.exp().argmax()\n",
    "    pred_category = pred_category.numpy()\n",
    "    \n",
    "    acc = (pred_category == category)\n",
    "\n",
    "    return loss.item(), acc"
   ]
  },
  {
   "cell_type": "code",
   "execution_count": null,
   "id": "f8196c91-a9c1-4303-8022-22e78de98550",
   "metadata": {},
   "outputs": [],
   "source": [
    "def validation(text_embs, category_tensor, category):\n",
    "    hidden = rnncell.initHidden()\n",
    "\n",
    "    ###---------------------------------------------###\n",
    "    for i in range(len(text_embs)):\n",
    "        hidden = rnncell.forward(torch.tensor(text_embs[i]), hidden)\n",
    "        \n",
    "    output = classifier(hidden)\n",
    "    ###---------------------------------------------###\n",
    "    \n",
    "    pred_category = output.exp().argmax()\n",
    "    pred_category = pred_category.numpy()\n",
    "\n",
    "    return pred_category"
   ]
  },
  {
   "cell_type": "markdown",
   "id": "8c0b7f74-184b-4bc4-84ff-69d8be3e6a92",
   "metadata": {},
   "source": [
    "___"
   ]
  },
  {
   "cell_type": "code",
   "execution_count": null,
   "id": "e56443b3-6786-4276-9b97-8b26e92d25bb",
   "metadata": {},
   "outputs": [],
   "source": [
    "set_random_seed(42)\n",
    "\n",
    "n_emb = 300\n",
    "n_hidden = 128 # BE HAPPY TO INCREASE\n",
    "n_categories = 3\n",
    "\n",
    "rnncell = RNNCell(n_emb, n_hidden)\n",
    "classifier = nn.Sequential(nn.Linear(n_hidden, n_categories), nn.LogSoftmax(dim=1))\n",
    "params = list(rnncell.parameters()) + list(classifier.parameters())\n",
    "\n",
    "opt = torch.optim.Adam(params, lr=1e-3)"
   ]
  },
  {
   "cell_type": "code",
   "execution_count": null,
   "id": "ee232010-fb92-49be-bd92-59731a843574",
   "metadata": {},
   "outputs": [],
   "source": [
    "# rnncell = torch.load('rnn_model')"
   ]
  },
  {
   "cell_type": "code",
   "execution_count": null,
   "id": "e3896dda-49cc-4537-b35f-b471efcc6255",
   "metadata": {},
   "outputs": [],
   "source": [
    "epochs = 20\n",
    "n_texts = len(train_id_texts)\n",
    "true_val = validation_id_labels['category'].values\n",
    "\n",
    "accs_train_epoch, accs_val_epoch = [], []\n",
    "losses_train_epoch, losses_val_epoch = [], []"
   ]
  },
  {
   "cell_type": "code",
   "execution_count": null,
   "id": "a0dc0523-b48f-42a9-823f-e892af6b97e8",
   "metadata": {
    "tags": []
   },
   "outputs": [],
   "source": [
    "best_acc_val = 0\n",
    "\n",
    "for epoch in tqdm(range(epochs)):    \n",
    "    ### RESET\n",
    "    current_loss, current_acc = 0, 0\n",
    "    \n",
    "    ### TRAIN\n",
    "    for id in train_id_texts['id']:\n",
    "        text = train_id_texts[train_id_texts['id'] == id]['message'].values[0]\n",
    "\n",
    "        category = train_id_labels[train_id_labels['id'] == id]['category'].values[0]\n",
    "        category_tensor = torch.tensor([category])\n",
    "\n",
    "        text_tokens = review_to_wordlist(text)\n",
    "        text_embs = text_tokens_to_embs(text_tokens)\n",
    "\n",
    "        loss, acc = train(opt, text_embs, category_tensor, category)\n",
    "\n",
    "        current_loss += loss\n",
    "        current_acc += acc\n",
    "        \n",
    "    ### TRAIN: CALCULATE METRICS\n",
    "    accs_train_epoch += [current_acc / n_texts]\n",
    "    losses_train_epoch += [current_loss / n_texts]\n",
    "    \n",
    "    ### RESET\n",
    "    current_loss, current_acc = 0, 0\n",
    "    \n",
    "    ### VALIDATION\n",
    "    pred_val = []\n",
    "    for id in validation_id_texts['id']:\n",
    "        text = validation_id_texts[validation_id_texts['id'] == id]['message'].values[0]\n",
    "\n",
    "        category = validation_id_labels[validation_id_labels['id'] == id]['category'].values[0]\n",
    "        category_tensor = torch.tensor([category])\n",
    "\n",
    "        text_tokens = review_to_wordlist(text)\n",
    "        text_embs = text_tokens_to_embs(text_tokens)\n",
    "\n",
    "        pred_val += [validation(text_embs, category_tensor, category)]\n",
    "        \n",
    "    cur_acc_val = (pred_val == true_val).mean()\n",
    "    accs_val_epoch += [cur_acc_val]\n",
    "    \n",
    "    if cur_acc_val > best_acc_val:\n",
    "        best_acc_val = cur_acc_val\n",
    "        torch.save(rnncell, 'rnn__big_epoch_{0}'.format(epoch))\n",
    "    \n",
    "    clear_output()\n",
    "    plot_graphics(accs_train_epoch, accs_val_epoch, losses_train_epoch)"
   ]
  },
  {
   "cell_type": "markdown",
   "id": "6c62e440-e258-48cb-a128-6f02a3b0e0c5",
   "metadata": {
    "tags": []
   },
   "source": [
    "___"
   ]
  },
  {
   "cell_type": "code",
   "execution_count": null,
   "id": "c4f1044d-682a-47a5-b2dc-398f3990b6eb",
   "metadata": {
    "tags": []
   },
   "outputs": [],
   "source": [
    "def prediction(text_embs):\n",
    "    hidden = rnncell.initHidden()\n",
    "\n",
    "    ###---------------------------------------------###\n",
    "    for i in range(len(text_embs)):\n",
    "        hidden = rnncell.forward(torch.tensor(text_embs[i]), hidden)\n",
    "        \n",
    "    output = classifier(hidden)\n",
    "    ###---------------------------------------------###\n",
    "    \n",
    "    pred_category = output.exp().argmax()\n",
    "    pred_category = pred_category.numpy()\n",
    "\n",
    "    return pred_category"
   ]
  },
  {
   "cell_type": "code",
   "execution_count": null,
   "id": "91810d8e-aa95-43e8-9a14-d4d4b1a3aa80",
   "metadata": {},
   "outputs": [],
   "source": [
    "pred_test = []\n",
    "\n",
    "for id in tqdm(test_id_texts['id']):\n",
    "    text = test_id_texts[test_id_texts['id'] == id]['message'].values[0]\n",
    "\n",
    "    text_tokens = review_to_wordlist(text)\n",
    "    text_embs = text_tokens_to_embs(text_tokens)\n",
    "\n",
    "    pred_test += [prediction(text_embs)]"
   ]
  },
  {
   "cell_type": "markdown",
   "id": "0a2381c2-e6ed-4391-aa8a-3627c5b9e71d",
   "metadata": {},
   "source": [
    "## `8. Выгрузка сабмита`\n",
    "___"
   ]
  },
  {
   "cell_type": "code",
   "execution_count": null,
   "id": "f149c4a1-1122-408a-868f-0ed440bdb716",
   "metadata": {},
   "outputs": [],
   "source": [
    "len(pred_test)"
   ]
  },
  {
   "cell_type": "code",
   "execution_count": null,
   "id": "edf69c3d-55be-488d-9dfa-2359fcf770b2",
   "metadata": {},
   "outputs": [],
   "source": [
    "sample_submission['category'] = pred_test"
   ]
  },
  {
   "cell_type": "code",
   "execution_count": null,
   "id": "ec3164e9-e11c-459f-978a-4d4394691139",
   "metadata": {},
   "outputs": [],
   "source": [
    "sample_submission"
   ]
  },
  {
   "cell_type": "code",
   "execution_count": null,
   "id": "2b459719-1704-4f1a-a1b0-595257db7597",
   "metadata": {},
   "outputs": [],
   "source": [
    "sample_submission.to_csv('results.csv', index=False)"
   ]
  },
  {
   "cell_type": "markdown",
   "id": "7282a6ab-ad05-415f-805e-7ce4a5d16b04",
   "metadata": {},
   "source": [
    "___"
   ]
  }
 ],
 "metadata": {
  "kernelspec": {
   "display_name": "Python 3 (ipykernel)",
   "language": "python",
   "name": "python3"
  },
  "language_info": {
   "codemirror_mode": {
    "name": "ipython",
    "version": 3
   },
   "file_extension": ".py",
   "mimetype": "text/x-python",
   "name": "python",
   "nbconvert_exporter": "python",
   "pygments_lexer": "ipython3",
   "version": "3.9.7"
  }
 },
 "nbformat": 4,
 "nbformat_minor": 5
}
